{
  "nbformat": 4,
  "nbformat_minor": 0,
  "metadata": {
    "colab": {
      "provenance": [],
      "authorship_tag": "ABX9TyMsLURez0UYVnzQoyVZoshU",
      "include_colab_link": true
    },
    "kernelspec": {
      "name": "python3",
      "display_name": "Python 3"
    },
    "language_info": {
      "name": "python"
    }
  },
  "cells": [
    {
      "cell_type": "markdown",
      "metadata": {
        "id": "view-in-github",
        "colab_type": "text"
      },
      "source": [
        "<a href=\"https://colab.research.google.com/github/Kaviyarasi-Sasiperumal/Deep-Learning/blob/main/Permutations%26Combination.ipynb\" target=\"_parent\"><img src=\"https://colab.research.google.com/assets/colab-badge.svg\" alt=\"Open In Colab\"/></a>"
      ]
    },
    {
      "cell_type": "code",
      "execution_count": 2,
      "metadata": {
        "colab": {
          "base_uri": "https://localhost:8080/"
        },
        "id": "xXdNsSctkoHd",
        "outputId": "008bcafe-9cfc-4937-f80c-6994f0c34cd3"
      },
      "outputs": [
        {
          "output_type": "stream",
          "name": "stdout",
          "text": [
            "(1, 2)\n",
            "(1, 3)\n",
            "(2, 1)\n",
            "(2, 3)\n",
            "(3, 1)\n",
            "(3, 2)\n",
            "Permutation Count: 6\n"
          ]
        }
      ],
      "source": [
        "from itertools import permutations\n",
        "count = 0\n",
        "data = [1,2,3]\n",
        "perm = permutations(data, 2)\n",
        "for i in list(perm):\n",
        "  print(i)\n",
        "  count=count+1\n",
        "\n",
        "print(\"Permutation Count:\",count)"
      ]
    },
    {
      "cell_type": "markdown",
      "source": [
        "\n",
        "combination with length-2"
      ],
      "metadata": {
        "id": "DusG8ORfo3_F"
      }
    },
    {
      "cell_type": "code",
      "source": [
        "from itertools import combinations\n",
        "count = 0\n",
        "data = [1,2,3]\n",
        "perm = combinations(data, 2)\n",
        "for i in list(perm):\n",
        "  print(i)\n",
        "  count=count+1\n",
        "\n",
        "print(\"Permutation Count:\",count)"
      ],
      "metadata": {
        "colab": {
          "base_uri": "https://localhost:8080/"
        },
        "id": "Stp04H4wo0OD",
        "outputId": "31bfc813-4217-4ea4-869d-0014b261cb10"
      },
      "execution_count": 3,
      "outputs": [
        {
          "output_type": "stream",
          "name": "stdout",
          "text": [
            "(1, 2)\n",
            "(1, 3)\n",
            "(2, 3)\n",
            "Permutation Count: 3\n"
          ]
        }
      ]
    },
    {
      "cell_type": "code",
      "source": [
        "from itertools import combinations_with_replacement as cr\n",
        "count = 0\n",
        "data = [1,2,3]\n",
        "data2 =[2,1,3]\n",
        "perm = cr(data, 2)\n",
        "for i in list(perm):\n",
        "  print(i)\n",
        "  count=count+1\n",
        "\n",
        "print(\"Permutation Count:\",count)"
      ],
      "metadata": {
        "colab": {
          "base_uri": "https://localhost:8080/"
        },
        "id": "pSnaUEa1p31k",
        "outputId": "ec5c200a-cac7-4e02-cde8-161897f5d240"
      },
      "execution_count": 4,
      "outputs": [
        {
          "output_type": "stream",
          "name": "stdout",
          "text": [
            "(1, 1)\n",
            "(1, 2)\n",
            "(1, 3)\n",
            "(2, 2)\n",
            "(2, 3)\n",
            "(3, 3)\n",
            "Permutation Count: 6\n"
          ]
        }
      ]
    }
  ]
}